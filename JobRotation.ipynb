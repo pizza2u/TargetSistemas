{
  "cells": [
    {
      "cell_type": "markdown",
      "metadata": {
        "id": "9RNVT1Dv4x_7"
      },
      "source": [
        "### Item 1)\n",
        "Observe o trecho de código abaixo:\n",
        "\n",
        "int INDICE = 13, SOMA = 0, K = 0;\n",
        "\n",
        "enquanto K < INDICE faça\n",
        "{\n",
        "K = K + 1;\n",
        "SOMA = SOMA + K;\n",
        "}\n",
        "\n",
        "imprimir(SOMA);\n",
        "\n",
        "Ao final do processamento, qual será o valor da variável SOMA?"
      ]
    },
    {
      "cell_type": "code",
      "execution_count": 1,
      "metadata": {
        "colab": {
          "base_uri": "https://localhost:8080/"
        },
        "id": "iJpXxmKE4mN6",
        "outputId": "e2d4f389-7c45-4173-a53f-811475e89e1e"
      },
      "outputs": [
        {
          "name": "stdout",
          "output_type": "stream",
          "text": [
            "91\n"
          ]
        }
      ],
      "source": [
        "INDICE = 13\n",
        "SOMA = 0\n",
        "K = 0\n",
        "\n",
        "while K < INDICE:\n",
        "    K = K + 1\n",
        "    SOMA = SOMA + K\n",
        "\n",
        "print(SOMA)\n"
      ]
    },
    {
      "cell_type": "markdown",
      "metadata": {
        "id": "whTl8ZGi43hj"
      },
      "source": [
        "### Item 2)\n",
        "Dado a sequência de Fibonacci, onde se inicia por 0 e 1 e o próximo valor sempre será a soma dos 2 valores anteriores (exemplo: 0, 1, 1, 2, 3, 5, 8, 13, 21, 34...), escreva um programa na linguagem que desejar onde, informado um número, ele calcule a sequência de Fibonacci e retorne uma mensagem avisando se o número informado pertence ou não a sequência.\n",
        "IMPORTANTE:\n",
        "Esse número pode ser informado através de qualquer entrada de sua preferência ou pode ser previamente definido no código;"
      ]
    },
    {
      "cell_type": "code",
      "execution_count": 5,
      "metadata": {
        "colab": {
          "base_uri": "https://localhost:8080/"
        },
        "id": "D4uIWTEs4_sf",
        "outputId": "62f98e46-2736-486a-fb66-f0f6d1f35c4d"
      },
      "outputs": [
        {
          "name": "stdout",
          "output_type": "stream",
          "text": [
            "Digite um número para verificar se pertence à sequência de Fibonacci: 4\n",
            "O número 4 não faz parte da sequência de Fibonacci.\n"
          ]
        }
      ],
      "source": [
        "def is_fibonacci(num):\n",
        "    fib1 = 0\n",
        "    fib2 = 1\n",
        "    while fib2 < num:\n",
        "        fib1, fib2 = fib2, fib1 + fib2\n",
        "    return fib2 == num\n",
        "\n",
        "num = int(input(\"Digite um número para verificar se pertence à sequência de Fibonacci: \"))\n",
        "\n",
        "if is_fibonacci(num):\n",
        "    print(f\"O número {num} faz parte da sequência de Fibonacci.\")\n",
        "else:\n",
        "    print(f\"O número {num} não faz parte da sequência de Fibonacci.\")\n"
      ]
    },
    {
      "cell_type": "markdown",
      "metadata": {
        "id": "HcHQM9t55lzY"
      },
      "source": [
        "### Item 3)\n",
        "3) Dado um vetor que guarda o valor de faturamento diário de uma distribuidora, faça um programa, na linguagem que desejar, que calcule e retorne:\n",
        "• O menor valor de faturamento ocorrido em um dia do mês;\n",
        "• O maior valor de faturamento ocorrido em um dia do mês;\n",
        "• Número de dias no mês em que o valor de faturamento diário foi superior à média mensal.\n",
        "\n",
        "IMPORTANTE:\n",
        "a) Usar o json ou xml disponível como fonte dos dados do faturamento mensal;\n",
        "b) Podem existir dias sem faturamento, como nos finais de semana e feriados. Estes dias devem ser ignorados no cálculo da média;\n"
      ]
    },
    {
      "cell_type": "code",
      "execution_count": 13,
      "metadata": {
        "id": "iX2U3r5o5o4Z"
      },
      "outputs": [
        {
          "name": "stdout",
          "output_type": "stream",
          "text": [
            "Total vendido: R$ 438.172,77\n",
            "Maior valor de faturamento: R$ 48.924,24\n",
            "Menor valor de faturamento: R$ 0,00\n",
            "Número de dias com faturamento acima da média mensal: 10\n"
          ]
        }
      ],
      "source": [
        "import json\n",
        "from locale import setlocale, LC_ALL, currency\n",
        "setlocale(LC_ALL, 'pt_BR.UTF-8')\n",
        "\n",
        "def calcular_faturamento(dados_faturamento):\n",
        "    vetor_faturamento = [float(dia['valor']) for dia in dados_faturamento]\n",
        "\n",
        "    menor_valor = min(vetor_faturamento)\n",
        "    maior_valor = max(vetor_faturamento)\n",
        "    \n",
        "    total_faturamento = sum(vetor_faturamento)\n",
        "    \n",
        "    dias_com_faturamento = [dia for dia in vetor_faturamento if dia > 0]\n",
        "    media_mensal = sum(dias_com_faturamento) / len(dias_com_faturamento)\n",
        "\n",
        "    dias_acima_media = sum(1 for dia in vetor_faturamento if dia > media_mensal)\n",
        "\n",
        "    return total_faturamento, menor_valor, maior_valor, dias_acima_media\n",
        "\n",
        "with open('dados.json') as file:\n",
        "    dados_faturamento = json.load(file)\n",
        "\n",
        "total_vendido, menor, maior, acima_media = calcular_faturamento(dados_faturamento)\n",
        "total_vendido_formatado = currency(total_vendido, grouping=True)\n",
        "menor_formatado = currency(menor, grouping=True)\n",
        "maior_formatado = currency(maior, grouping=True)\n",
        "\n",
        "print(\"Total vendido:\", total_vendido_formatado)\n",
        "print(\"Maior valor de faturamento:\", maior_formatado)\n",
        "print(\"Menor valor de faturamento:\", menor_formatado)\n",
        "print(\"Número de dias com faturamento acima da média mensal:\", acima_media)\n"
      ]
    },
    {
      "cell_type": "markdown",
      "metadata": {},
      "source": [
        "### Itemm 4)\n",
        "Dado o valor de faturamento mensal de uma distribuidora, detalhado por estado:\n",
        "\n",
        "SP – R$67.836,43\n",
        "RJ – R$36.678,66\n",
        "MG – R$29.229,88\n",
        "ES – R$27.165,48\n",
        "Outros – R$19.849,53\n",
        "\n",
        "Escreva um programa na linguagem que desejar onde calcule o percentual de representação que cada estado teve dentro do valor total mensal da distribuidora."
      ]
    },
    {
      "cell_type": "code",
      "execution_count": 14,
      "metadata": {},
      "outputs": [
        {
          "name": "stdout",
          "output_type": "stream",
          "text": [
            "Percentual de representação por estado:\n",
            "SP: 37.53%\n",
            "RJ: 20.29%\n",
            "MG: 16.17%\n",
            "ES: 15.03%\n",
            "Outros: 10.98%\n"
          ]
        }
      ],
      "source": [
        "faturamento_por_estado = {\n",
        "    'SP': 67836.43,\n",
        "    'RJ': 36678.66,\n",
        "    'MG': 29229.88,\n",
        "    'ES': 27165.48,\n",
        "    'Outros': 19849.53\n",
        "}\n",
        "\n",
        "total_mensal = sum(faturamento_por_estado.values())\n",
        "\n",
        "percentuais_por_estado = {}\n",
        "for estado, faturamento in faturamento_por_estado.items():\n",
        "    percentual = (faturamento / total_mensal) * 100\n",
        "    percentuais_por_estado[estado] = percentual\n",
        "\n",
        "print(\"Percentual de representação por estado:\")\n",
        "for estado, percentual in percentuais_por_estado.items():\n",
        "    print(f\"{estado}: {percentual:.2f}%\")\n"
      ]
    },
    {
      "cell_type": "markdown",
      "metadata": {},
      "source": [
        "### Item 5)\n",
        "Escreva um programa que inverta os caracteres de um string.\n",
        "\n",
        "IMPORTANTE:\n",
        "\n",
        "a) Essa string pode ser informada através de qualquer entrada de sua preferência ou pode ser previamente definida no código;\n",
        "\n",
        "b) Evite usar funções prontas, como, por exemplo, reverse;"
      ]
    },
    {
      "cell_type": "code",
      "execution_count": 2,
      "metadata": {},
      "outputs": [
        {
          "name": "stdout",
          "output_type": "stream",
          "text": [
            "String Original: Target\n",
            "String invertida: tegraT\n"
          ]
        }
      ],
      "source": [
        "def inverter_string(s):\n",
        "    string_inv = \"\"\n",
        "    \n",
        "    for i in range(len(s) - 1, -1, -1):\n",
        "        string_inv += s[i]\n",
        "    \n",
        "    return string_inv\n",
        "\n",
        "string_original = input(\"Digite a string que deseja inverter: \")\n",
        "string_inv = inverter_string(string_original)\n",
        "print(\"String Original:\", string_original)\n",
        "print(\"String invertida:\", string_inv)\n"
      ]
    }
  ],
  "metadata": {
    "colab": {
      "provenance": []
    },
    "kernelspec": {
      "display_name": "Python 3",
      "name": "python3"
    },
    "language_info": {
      "codemirror_mode": {
        "name": "ipython",
        "version": 3
      },
      "file_extension": ".py",
      "mimetype": "text/x-python",
      "name": "python",
      "nbconvert_exporter": "python",
      "pygments_lexer": "ipython3",
      "version": "3.12.0"
    }
  },
  "nbformat": 4,
  "nbformat_minor": 0
}
